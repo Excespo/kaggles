{
 "cells": [
  {
   "cell_type": "code",
   "execution_count": 1,
   "source": [
    "import numpy as np\n",
    "import pandas as pd\n",
    "import matplotlib.pyplot as plt\n",
    "import seaborn as sns\n",
    "plt.style.use('ggplot')\n",
    "import warnings\n",
    "warnings.filterwarnings('ignore')\n"
   ],
   "outputs": [],
   "metadata": {}
  },
  {
   "cell_type": "code",
   "execution_count": 7,
   "source": [
    "class YZJ():\n",
    "\n",
    "    def __init__(self,sex:str):\n",
    "        self.sex = sex\n",
    "\n",
    "    @property\n",
    "    def isSB(self):\n",
    "        return 1\n",
    "\n",
    "    def isSSB(self):\n",
    "        return 2\n",
    "\n",
    "yzj = YZJ('female')\n"
   ],
   "outputs": [
    {
     "output_type": "error",
     "ename": "TypeError",
     "evalue": "'int' object is not callable",
     "traceback": [
      "\u001b[0;31m---------------------------------------------------------------------------\u001b[0m",
      "\u001b[0;31mTypeError\u001b[0m                                 Traceback (most recent call last)",
      "\u001b[0;32m/tmp/ipykernel_4021269/583169273.py\u001b[0m in \u001b[0;36m<module>\u001b[0;34m\u001b[0m\n\u001b[1;32m     12\u001b[0m \u001b[0;34m\u001b[0m\u001b[0m\n\u001b[1;32m     13\u001b[0m \u001b[0myzj\u001b[0m \u001b[0;34m=\u001b[0m \u001b[0mYZJ\u001b[0m\u001b[0;34m(\u001b[0m\u001b[0;34m'female'\u001b[0m\u001b[0;34m)\u001b[0m\u001b[0;34m\u001b[0m\u001b[0;34m\u001b[0m\u001b[0m\n\u001b[0;32m---> 14\u001b[0;31m \u001b[0myzj\u001b[0m\u001b[0;34m.\u001b[0m\u001b[0misSB\u001b[0m\u001b[0;34m,\u001b[0m \u001b[0myzj\u001b[0m\u001b[0;34m.\u001b[0m\u001b[0misSB\u001b[0m\u001b[0;34m(\u001b[0m\u001b[0;34m)\u001b[0m\u001b[0;34m\u001b[0m\u001b[0;34m\u001b[0m\u001b[0m\n\u001b[0m",
      "\u001b[0;31mTypeError\u001b[0m: 'int' object is not callable"
     ]
    }
   ],
   "metadata": {}
  },
  {
   "cell_type": "code",
   "execution_count": 3,
   "source": [
    "models = [1,2,3,4]\n",
    "met = models.pop()\n",
    "met, models"
   ],
   "outputs": [
    {
     "output_type": "execute_result",
     "data": {
      "text/plain": [
       "(4, [1, 2, 3])"
      ]
     },
     "metadata": {},
     "execution_count": 3
    }
   ],
   "metadata": {}
  },
  {
   "cell_type": "code",
   "execution_count": 5,
   "source": [
    "d = {1:'a','v':2}\n"
   ],
   "outputs": [
    {
     "output_type": "error",
     "ename": "SyntaxError",
     "evalue": "invalid syntax (521794614.py, line 2)",
     "traceback": [
      "\u001b[0;36m  File \u001b[0;32m\"/tmp/ipykernel_3952572/521794614.py\"\u001b[0;36m, line \u001b[0;32m2\u001b[0m\n\u001b[0;31m    d.1\u001b[0m\n\u001b[0m     ^\u001b[0m\n\u001b[0;31mSyntaxError\u001b[0m\u001b[0;31m:\u001b[0m invalid syntax\n"
     ]
    }
   ],
   "metadata": {}
  },
  {
   "cell_type": "code",
   "execution_count": 7,
   "source": [
    "t1 = [1]\n",
    "t2 = None\n",
    "assert t1 and t2 is not None"
   ],
   "outputs": [
    {
     "output_type": "error",
     "ename": "AssertionError",
     "evalue": "",
     "traceback": [
      "\u001b[0;31m---------------------------------------------------------------------------\u001b[0m",
      "\u001b[0;31mAssertionError\u001b[0m                            Traceback (most recent call last)",
      "\u001b[0;32m/tmp/ipykernel_3952572/248061625.py\u001b[0m in \u001b[0;36m<module>\u001b[0;34m\u001b[0m\n\u001b[1;32m      1\u001b[0m \u001b[0mt1\u001b[0m \u001b[0;34m=\u001b[0m \u001b[0;34m[\u001b[0m\u001b[0;36m1\u001b[0m\u001b[0;34m]\u001b[0m\u001b[0;34m\u001b[0m\u001b[0;34m\u001b[0m\u001b[0m\n\u001b[1;32m      2\u001b[0m \u001b[0mt2\u001b[0m \u001b[0;34m=\u001b[0m \u001b[0;32mNone\u001b[0m\u001b[0;34m\u001b[0m\u001b[0;34m\u001b[0m\u001b[0m\n\u001b[0;32m----> 3\u001b[0;31m \u001b[0;32massert\u001b[0m \u001b[0mt1\u001b[0m \u001b[0;32mand\u001b[0m \u001b[0mt2\u001b[0m \u001b[0;32mis\u001b[0m \u001b[0;32mnot\u001b[0m \u001b[0;32mNone\u001b[0m\u001b[0;34m\u001b[0m\u001b[0;34m\u001b[0m\u001b[0m\n\u001b[0m",
      "\u001b[0;31mAssertionError\u001b[0m: "
     ]
    }
   ],
   "metadata": {}
  },
  {
   "cell_type": "code",
   "execution_count": 2,
   "source": [
    "def func(alpha,*,beta,gamma):\n",
    "    print(alpha,beta,gamma)\n",
    "\n",
    "params = {'beta':10,'gamma':100}\n",
    "func(alpah=1,params)"
   ],
   "outputs": [
    {
     "output_type": "error",
     "ename": "SyntaxError",
     "evalue": "positional argument follows keyword argument (819686185.py, line 5)",
     "traceback": [
      "\u001b[0;36m  File \u001b[0;32m\"/tmp/ipykernel_750813/819686185.py\"\u001b[0;36m, line \u001b[0;32m5\u001b[0m\n\u001b[0;31m    func(alpah=1,params)\u001b[0m\n\u001b[0m                       ^\u001b[0m\n\u001b[0;31mSyntaxError\u001b[0m\u001b[0;31m:\u001b[0m positional argument follows keyword argument\n"
     ]
    }
   ],
   "metadata": {}
  },
  {
   "cell_type": "code",
   "execution_count": 47,
   "source": [
    "# tree\n",
    "class Node:\n",
    "    def __init__(self,data,left=None,right=None):\n",
    "        self.left = left\n",
    "        self.right = right\n",
    "        self.data = data\n",
    "\n",
    "class BinaryTree:\n",
    "    '''A binary tree is added/traversed in 3 kinds of orders\n",
    "        - Preorder: root->left->right\n",
    "        - Inorder: left->root->right\n",
    "        - Postorder: left->right->root\n",
    "    '''\n",
    "    def __init__(self,):\n",
    "        self.root = None\n",
    "        self.nodes = []\n",
    "\n",
    "    def from_array(self,array):\n",
    "        def add(data):\n",
    "            node = Node(data)\n",
    "            if self.root is None:\n",
    "                self.root = node\n",
    "                self.nodes.append(node)\n",
    "            else:\n",
    "                rootNode = self.nodes[0]\n",
    "                if rootNode.left is None:\n",
    "                    rootNode.left = node\n",
    "                    self.nodes.append(node)\n",
    "                elif rootNode.right is None:\n",
    "                    rootNode.right = node\n",
    "                    self.nodes.append(node)\n",
    "                    self.nodes.pop(0)\n",
    "        for data in array:\n",
    "            add(data)\n",
    "    \n",
    "    def preorder_traverse(self):\n",
    "        output = []\n",
    "        def pre_t(root):\n",
    "            if root is None:\n",
    "                return\n",
    "            output.append(root.data)\n",
    "            pre_t(root.left)\n",
    "            pre_t(root.right)\n",
    "        pre_t(self.root)\n",
    "        print(output)\n",
    "\n",
    "    def preorder_traverse_stack(self):\n",
    "        def pre_tstack(root):\n",
    "            if root is None:\n",
    "                return\n",
    "            current = root\n",
    "            # output stream, task stack\n",
    "            ops, stack = [], []\n",
    "            while current or stack:\n",
    "                while current:\n",
    "                    stack.append(current)\n",
    "                    ops.append(current.data)\n",
    "                    current = current.left\n",
    "                current = stack.pop()\n",
    "                current = current.right\n",
    "            print(ops)\n",
    "        pre_tstack(self.root)\n",
    "\n",
    "    def inorder_traverse(self):\n",
    "        ops = []\n",
    "    \n",
    "    def inorder_traverse_dye(self):\n",
    "        def it_(root):\n",
    "            stack, ops = [root], []\n",
    "            while stack:\n",
    "                key = stack.pop()\n",
    "                \"\"\"\n",
    "                What the hell is it\n",
    "                extend the original stack with only a rootnode,\n",
    "                then each time the last element of stack is not a int(necessarily a Node class or None),\n",
    "                extend it\n",
    "                \"\"\"\n",
    "                if isinstance(key,Node):\n",
    "                    stack.extend([key.left, key.data, key.right])\n",
    "                elif isinstance(key,int):\n",
    "                    ops.append(key)\n",
    "            return ops\n",
    "        print(it_(self.root)[::-1])\n",
    "\n",
    "    def dye_traversal(self,kind='Inorder'):\n",
    "        '''kind = Inorder/ Preorder/ Postorder'''\n",
    "        def extension(key):\n",
    "            if kind == 'Inorder':\n",
    "                return [key.left, key.data, key.right]\n",
    "            elif kind == 'Preorder':\n",
    "                return [key.data, key.left, key.right]\n",
    "            else:\n",
    "                return [key.left, key.right, key.data]\n",
    "        def traverse(root):\n",
    "            stack, ops = [root], []\n",
    "            while stack:\n",
    "                key = stack.pop()\n",
    "                if isinstance(key,int):\n",
    "                    ops.append(key)\n",
    "                elif isinstance(key,Node):\n",
    "                    stack.extend(extension(key))\n",
    "            return ops[::-1]\n",
    "        print(traverse(self.root))\n",
    "\n",
    "        \n",
    "t = BinaryTree()\n",
    "t.from_array([i for i in range(1,11)])"
   ],
   "outputs": [],
   "metadata": {}
  },
  {
   "cell_type": "code",
   "execution_count": 36,
   "source": [
    "# Pre Order\n",
    "t.preorder_traverse()==t.preorder_traverse_stack()"
   ],
   "outputs": [
    {
     "output_type": "stream",
     "name": "stdout",
     "text": [
      "[1, 2, 4, 8, 9, 5, 10, 3, 6, 7]\n",
      "[1, 2, 4, 8, 9, 5, 10, 3, 6, 7]\n"
     ]
    },
    {
     "output_type": "execute_result",
     "data": {
      "text/plain": [
       "True"
      ]
     },
     "metadata": {},
     "execution_count": 36
    }
   ],
   "metadata": {}
  },
  {
   "cell_type": "code",
   "execution_count": 37,
   "source": [
    "# In Order\n",
    "t.inorder_traverse_dye()"
   ],
   "outputs": [
    {
     "output_type": "stream",
     "name": "stdout",
     "text": [
      "[8, 4, 9, 2, 10, 5, 1, 6, 3, 7]\n"
     ]
    }
   ],
   "metadata": {}
  },
  {
   "cell_type": "code",
   "execution_count": null,
   "source": [
    "# Post Order"
   ],
   "outputs": [],
   "metadata": {}
  },
  {
   "cell_type": "code",
   "execution_count": 49,
   "source": [
    "# dye\n",
    "t.dye_traversal(kind='Preorder')"
   ],
   "outputs": [
    {
     "output_type": "stream",
     "name": "stdout",
     "text": [
      "[1, 2, 4, 8, 9, 5, 10, 3, 6, 7]\n"
     ]
    }
   ],
   "metadata": {}
  },
  {
   "cell_type": "code",
   "execution_count": 12,
   "source": [
    "# numba\n",
    "import numpy as np\n",
    "import numba\n",
    "from numba import jit\n",
    "import warnings\n",
    "warnings.filterwarnings('ignore')\n",
    "\n",
    "def go_fast(a): # 首次调用时，函数被编译为机器代码\n",
    "    trace = 0\n",
    "    # 假设输入变量是numpy数组\n",
    "    for i in range(a.shape[0]):   # Numba 擅长处理循环\n",
    "        trace += np.tanh(a[i, i])  # numba喜欢numpy函数\n",
    "    return a + trace # numba喜欢numpy广播\n",
    "\n",
    "x = np.arange(10000).astype(np.uint32).reshape(100,100)\n",
    "%timeit go_fast(x)"
   ],
   "outputs": [
    {
     "output_type": "stream",
     "name": "stdout",
     "text": [
      "97.7 µs ± 1.88 µs per loop (mean ± std. dev. of 7 runs, 10000 loops each)\n"
     ]
    }
   ],
   "metadata": {}
  },
  {
   "cell_type": "code",
   "execution_count": 13,
   "source": [
    "@jit()\n",
    "def go_fast(a):\n",
    "    trace = 0\n",
    "    for i in range(a.shape[0]):   # Numba 擅长处理循环\n",
    "        trace += np.tanh(a[i, i])  # numba喜欢numpy函数\n",
    "    return a + trace # numba喜欢numpy广播\n",
    "\n",
    "x = np.arange(10000).astype(np.uint32).reshape(100,100)\n",
    "%timeit go_fast(x)"
   ],
   "outputs": [
    {
     "output_type": "stream",
     "name": "stdout",
     "text": [
      "7.62 µs ± 265 ns per loop (mean ± std. dev. of 7 runs, 100000 loops each)\n"
     ]
    }
   ],
   "metadata": {}
  },
  {
   "cell_type": "code",
   "execution_count": 14,
   "source": [
    "import numba as nb\n",
    "import numpy as np\n",
    "import warnings\n",
    "warnings.filterwarnings('ignore')\n",
    "\n",
    "# 普通的 for\n",
    "def add1(x, c):\n",
    "    rs = [0.] * len(x)\n",
    "    for i, xx in enumerate(x):\n",
    "        rs[i] = xx + c\n",
    "    return rs\n",
    "\n",
    "# list comprehension\n",
    "def add2(x, c):\n",
    "    return [xx + c for xx in x]\n",
    "\n",
    "# 使用 jit 加速后的 for\n",
    "@nb.jit(nopython=True)\n",
    "def add_with_jit(x, c):\n",
    "    rs = [0.] * len(x)\n",
    "    for i, xx in enumerate(x):\n",
    "        rs[i] = xx + c\n",
    "    return rs\n",
    "\n",
    "y = np.random.random(10**5).astype(np.float32)\n",
    "x = y.tolist()\n",
    "\n",
    "assert np.allclose(add1(x, 1), add2(x, 1), add_with_jit(x, 1))\n",
    "%timeit add1(x, 1)\n",
    "%timeit add2(x, 1)\n",
    "%timeit add_with_jit(x, 1)"
   ],
   "outputs": [
    {
     "output_type": "stream",
     "name": "stdout",
     "text": [
      "5.95 ms ± 391 µs per loop (mean ± std. dev. of 7 runs, 100 loops each)\n",
      "3.52 ms ± 352 µs per loop (mean ± std. dev. of 7 runs, 100 loops each)\n",
      "69.5 ms ± 3.43 ms per loop (mean ± std. dev. of 7 runs, 10 loops each)\n"
     ]
    },
    {
     "output_type": "error",
     "ename": "NameError",
     "evalue": "name 'wrong_add' is not defined",
     "traceback": [
      "\u001b[0;31m---------------------------------------------------------------------------\u001b[0m",
      "\u001b[0;31mNameError\u001b[0m                                 Traceback (most recent call last)",
      "\u001b[0;32m/tmp/ipykernel_3062236/2653867854.py\u001b[0m in \u001b[0;36m<module>\u001b[0;34m\u001b[0m\n\u001b[1;32m     30\u001b[0m \u001b[0mget_ipython\u001b[0m\u001b[0;34m(\u001b[0m\u001b[0;34m)\u001b[0m\u001b[0;34m.\u001b[0m\u001b[0mrun_line_magic\u001b[0m\u001b[0;34m(\u001b[0m\u001b[0;34m'timeit'\u001b[0m\u001b[0;34m,\u001b[0m \u001b[0;34m'add2(x, 1)'\u001b[0m\u001b[0;34m)\u001b[0m\u001b[0;34m\u001b[0m\u001b[0;34m\u001b[0m\u001b[0m\n\u001b[1;32m     31\u001b[0m \u001b[0mget_ipython\u001b[0m\u001b[0;34m(\u001b[0m\u001b[0;34m)\u001b[0m\u001b[0;34m.\u001b[0m\u001b[0mrun_line_magic\u001b[0m\u001b[0;34m(\u001b[0m\u001b[0;34m'timeit'\u001b[0m\u001b[0;34m,\u001b[0m \u001b[0;34m'add_with_jit(x, 1)'\u001b[0m\u001b[0;34m)\u001b[0m\u001b[0;34m\u001b[0m\u001b[0;34m\u001b[0m\u001b[0m\n\u001b[0;32m---> 32\u001b[0;31m \u001b[0mprint\u001b[0m\u001b[0;34m(\u001b[0m\u001b[0mnp\u001b[0m\u001b[0;34m.\u001b[0m\u001b[0mallclose\u001b[0m\u001b[0;34m(\u001b[0m\u001b[0mwrong_add\u001b[0m\u001b[0;34m(\u001b[0m\u001b[0mx\u001b[0m\u001b[0;34m,\u001b[0m \u001b[0;36m1\u001b[0m\u001b[0;34m)\u001b[0m\u001b[0;34m,\u001b[0m \u001b[0;36m1\u001b[0m\u001b[0;34m)\u001b[0m\u001b[0;34m)\u001b[0m\u001b[0;34m\u001b[0m\u001b[0;34m\u001b[0m\u001b[0m\n\u001b[0m",
      "\u001b[0;31mNameError\u001b[0m: name 'wrong_add' is not defined"
     ]
    }
   ],
   "metadata": {}
  },
  {
   "cell_type": "code",
   "execution_count": 16,
   "source": [
    "arrs = (np.ones((1,2)), np.ones((1,2)))\n",
    "\n",
    "arrs"
   ],
   "outputs": [
    {
     "output_type": "execute_result",
     "data": {
      "text/plain": [
       "(array([[1., 1.]]), array([[1., 1.]]))"
      ]
     },
     "metadata": {},
     "execution_count": 16
    }
   ],
   "metadata": {}
  },
  {
   "cell_type": "code",
   "execution_count": null,
   "source": [],
   "outputs": [],
   "metadata": {}
  }
 ],
 "metadata": {
  "orig_nbformat": 4,
  "language_info": {
   "name": "python",
   "version": "3.9.2",
   "mimetype": "text/x-python",
   "codemirror_mode": {
    "name": "ipython",
    "version": 3
   },
   "pygments_lexer": "ipython3",
   "nbconvert_exporter": "python",
   "file_extension": ".py"
  },
  "kernelspec": {
   "name": "python3",
   "display_name": "Python 3.9.2 64-bit ('anaconda3': virtualenv)"
  },
  "interpreter": {
   "hash": "dca0ade3e726a953b501b15e8e990130d2b7799f14cfd9f4271676035ebe5511"
  }
 },
 "nbformat": 4,
 "nbformat_minor": 2
}