{
 "cells": [
  {
   "cell_type": "code",
   "execution_count": null,
   "source": [
    "import numpy as np\n",
    "import pandas as pd\n",
    "import matplotlib.pyplot as plt\n",
    "import seaborn as sns\n",
    "import pandas as pd\n",
    "from scipy.stats import norm, probplot\n",
    "import warnings\n",
    "warnings.filterwarning('ignore')\n",
    "\n",
    "X_train = pd.read_csv('/home/yijie/kaggles/data/house_price/X_train.csv')\n",
    "X_test = pd.read_csv('/home/yijie/kaggles/data/house_price/X_test.csv')\n",
    "y_train = pd.read_csv('/home/yijie/kaggles/data/house_price/y_train.csv')\n",
    "X_train.shape, X_test.shape, y_train.shape"
   ],
   "outputs": [],
   "metadata": {}
  },
  {
   "cell_type": "markdown",
   "source": [
    "# Alternating Direction Method of Multipliers\n",
    "\n",
    "[Info 1](https://zhuanlan.zhihu.com/p/106896627)"
   ],
   "metadata": {}
  },
  {
   "cell_type": "code",
   "execution_count": null,
   "source": [
    "# Lasso\n",
    "class Admm:\n",
    "    def __init__(self):\n",
    "        pass\n",
    "    "
   ],
   "outputs": [],
   "metadata": {}
  },
  {
   "cell_type": "code",
   "execution_count": null,
   "source": [],
   "outputs": [],
   "metadata": {}
  }
 ],
 "metadata": {
  "orig_nbformat": 4,
  "language_info": {
   "name": "python"
  }
 },
 "nbformat": 4,
 "nbformat_minor": 2
}